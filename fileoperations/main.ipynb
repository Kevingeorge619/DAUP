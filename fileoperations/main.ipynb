{
 "cells": [
  {
   "cell_type": "code",
   "execution_count": 5,
   "id": "a5565010",
   "metadata": {},
   "outputs": [
    {
     "name": "stdout",
     "output_type": "stream",
     "text": [
      "Error: [Errno 2] No such file or directory: 'non_existent_file.txt'\n"
     ]
    }
   ],
   "source": [
    "try:\n",
    "    f = open(\"non_existent_file.txt\", \"r\")\n",
    "    content = f.read()\n",
    "    print(content)\n",
    "except FileNotFoundError as e:\n",
    "    print(f\"Error: {e}\")    "
   ]
  },
  {
   "cell_type": "code",
   "execution_count": 11,
   "id": "dc39e97c",
   "metadata": {},
   "outputs": [
    {
     "name": "stdout",
     "output_type": "stream",
     "text": [
      "Age is valid: 20\n"
     ]
    }
   ],
   "source": [
    "def check_age(age):\n",
    "    if age < 0:\n",
    "        raise ValueError(\"Age cannot be negative\")\n",
    "    print(\"Age is valid:\", age)\n",
    "try:\n",
    "    age = int(input(\"Enter your age: \"))\n",
    "    check_age(age)\n",
    "except ValueError as e:\n",
    "    print(f\"Error: {e}\")"
   ]
  },
  {
   "cell_type": "code",
   "execution_count": 13,
   "id": "7dc3e620",
   "metadata": {},
   "outputs": [
    {
     "name": "stdout",
     "output_type": "stream",
     "text": [
      "You entered the number: 10\n"
     ]
    }
   ],
   "source": [
    "text = input(\"Enter some text: \")\n",
    "try:\n",
    "    num = int(text)\n",
    "    print(f\"You entered the number: {num}\")\n",
    "except ValueError:\n",
    "    print(f\"Error: '{text}' is not a valid integer.\")"
   ]
  },
  {
   "cell_type": "code",
   "execution_count": 4,
   "id": "fc517b3d",
   "metadata": {},
   "outputs": [
    {
     "name": "stdout",
     "output_type": "stream",
     "text": [
      "invalid literal for int() with base 10: 'abc'\n"
     ]
    }
   ],
   "source": [
    "try:\n",
    "    num = int(\"abc\")\n",
    "    print(num)\n",
    "except ValueError as e:\n",
    "    print(e)"
   ]
  },
  {
   "cell_type": "code",
   "execution_count": null,
   "id": "f99218e0",
   "metadata": {},
   "outputs": [
    {
     "name": "stdout",
     "output_type": "stream",
     "text": [
      "result is : 10\n"
     ]
    }
   ],
   "source": [
    "a = int(input(\"Enter a number: \"))\n",
    "b = int(input(\"Enter another number: \"))\n",
    "operator = input(\"Enter an operator (+, -, *, /): \")\n",
    "try:\n",
    "    if operator == '+':\n",
    "        result = a + b\n",
    "    elif operator == '-':\n",
    "        result = a - b\n",
    "    elif operator == '*':\n",
    "        result = a * b\n",
    "    elif operator == '/':\n",
    "        if b == 0:\n",
    "            raise ZeroDivisionError(\"Cannot divide by zero\")\n",
    "        result = a / b\n",
    "    else:\n",
    "        raise ValueError(\"Invalid operator\")\n",
    "    print(\"result is :\", result)\n",
    "except (ValueError, ZeroDivisionError) as e:\n",
    "    print(e)"
   ]
  },
  {
   "cell_type": "code",
   "execution_count": 20,
   "id": "05950904",
   "metadata": {},
   "outputs": [
    {
     "name": "stdout",
     "output_type": "stream",
     "text": [
      "Error InvalidMarkError: Mark must be between 0 and 100\n"
     ]
    }
   ],
   "source": [
    "# creste custom exception InvalidMarkError that is raised when a mark is not between 0 and 100\n",
    "class InvalidMarkError(Exception):\n",
    "    pass\n",
    "\n",
    "mark = int(input(\"Enter your mark (0-100): \"))\n",
    "try:\n",
    "    if mark < 0 or mark >100:\n",
    "        raise InvalidMarkError(\"InvalidMarkError: Mark must be between 0 and 100\")\n",
    "    print(\"Mark is valid:\", mark)\n",
    "except InvalidMarkError as e:\n",
    "    print(\"Error\", e)"
   ]
  },
  {
   "cell_type": "code",
   "execution_count": 21,
   "id": "c73b44c4",
   "metadata": {},
   "outputs": [
    {
     "name": "stdout",
     "output_type": "stream",
     "text": [
      "result is : 10\n",
      "End of Validation\n"
     ]
    }
   ],
   "source": [
    "# modify excercie 2 to include a finally block thst always prints \"End of Validation\"\n",
    "a = int(input(\"Enter a number: \"))\n",
    "b = int(input(\"Enter another number: \"))\n",
    "operator = input(\"Enter an operator (+, -, *, /): \")\n",
    "try:\n",
    "    if operator == '+':\n",
    "        result = a + b\n",
    "    elif operator == '-':\n",
    "        result = a - b\n",
    "    elif operator == '*':\n",
    "        result = a * b\n",
    "    elif operator == '/':\n",
    "        if b == 0:\n",
    "            raise ZeroDivisionError(\"Cannot divide by zero\")\n",
    "        result = a / b\n",
    "    else:\n",
    "        raise ValueError(\"Invalid operator\")\n",
    "    print(\"result is :\", result)\n",
    "except (ValueError, ZeroDivisionError) as e:\n",
    "    print(e)\n",
    "finally:\n",
    "        print(\"End of Validation\")"
   ]
  },
  {
   "cell_type": "code",
   "execution_count": null,
   "id": "ece0c560",
   "metadata": {},
   "outputs": [
    {
     "name": "stdout",
     "output_type": "stream",
     "text": [
      "Created the file and data written\n"
     ]
    }
   ],
   "source": [
    "# file operations writing data to file\n",
    "\n",
    "with open(\"file.txt\",\"w\") as file:\n",
    "    file.write(\"Hello\\n\")\n",
    "    file.write(\"Welcome to file operation in Python\")\n",
    "print(\"Created the file and data written\")"
   ]
  },
  {
   "cell_type": "code",
   "execution_count": 7,
   "id": "99cdbf0c",
   "metadata": {},
   "outputs": [
    {
     "name": "stdout",
     "output_type": "stream",
     "text": [
      "Read from file1:\n",
      "Hello\n",
      "Welcome to file operation in Python\n",
      " This is an append line\n"
     ]
    }
   ],
   "source": [
    "# read file \n",
    "\n",
    "with open(\"file.txt\",\"r\") as file:\n",
    "    b = file.read()\n",
    "print(\"Read from file1:\")\n",
    "print(b)"
   ]
  },
  {
   "cell_type": "code",
   "execution_count": null,
   "id": "f0b81449",
   "metadata": {},
   "outputs": [
    {
     "name": "stdout",
     "output_type": "stream",
     "text": [
      "\n",
      " data append to file\n"
     ]
    }
   ],
   "source": [
    "# append file\n",
    "\n",
    "with open(\"file.txt\", \"a\") as file:\n",
    "    file.write(\"\\n This is an append line\")\n",
    "print(\"\\ndata append to file\")"
   ]
  },
  {
   "cell_type": "code",
   "execution_count": 8,
   "id": "2eb12043",
   "metadata": {},
   "outputs": [
    {
     "name": "stdout",
     "output_type": "stream",
     "text": [
      "File deleted successfully\n"
     ]
    }
   ],
   "source": [
    "# delete a file \n",
    "\n",
    "import os\n",
    "if os.path.exists(\"file.txt\"):\n",
    "    os.remove(\"file.txt\")\n",
    "    print(\"File deleted successfully\")\n",
    "else:\n",
    "    print(\"File not found\")"
   ]
  },
  {
   "cell_type": "code",
   "execution_count": null,
   "id": "d66b61e7",
   "metadata": {},
   "outputs": [],
   "source": []
  }
 ],
 "metadata": {
  "kernelspec": {
   "display_name": "Python 3",
   "language": "python",
   "name": "python3"
  },
  "language_info": {
   "codemirror_mode": {
    "name": "ipython",
    "version": 3
   },
   "file_extension": ".py",
   "mimetype": "text/x-python",
   "name": "python",
   "nbconvert_exporter": "python",
   "pygments_lexer": "ipython3",
   "version": "3.8.10"
  }
 },
 "nbformat": 4,
 "nbformat_minor": 5
}
