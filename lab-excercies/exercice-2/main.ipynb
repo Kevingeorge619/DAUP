{
 "cells": [
  {
   "cell_type": "code",
   "execution_count": null,
   "id": "a943021b",
   "metadata": {},
   "outputs": [],
   "source": [
    "#Write a program that checks if an entered number is prime\n",
    "\n",
    "num = int(input(\"Enter a number\"))\n",
    "\n"
   ]
  }
 ],
 "metadata": {
  "language_info": {
   "name": "python"
  }
 },
 "nbformat": 4,
 "nbformat_minor": 5
}
