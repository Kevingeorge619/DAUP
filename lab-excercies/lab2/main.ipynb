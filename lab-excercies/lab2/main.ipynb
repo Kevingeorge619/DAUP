{
 "cells": [
  {
   "cell_type": "code",
   "execution_count": 14,
   "id": "0aff1bc7",
   "metadata": {},
   "outputs": [
    {
     "name": "stdout",
     "output_type": "stream",
     "text": [
      "63\n",
      "10\n",
      "128\n",
      "4.285714285714286\n"
     ]
    }
   ],
   "source": [
    "# Create a Calculator class with methods add, subtract, multiply, divide.\n",
    "\n",
    "class Calculator:\n",
    "    def add(self, a, b):\n",
    "        return a + b\n",
    "\n",
    "    def subtract(self, a, b):\n",
    "        return a - b\n",
    "\n",
    "    def multiply(self, a, b):\n",
    "        return a * b\n",
    "\n",
    "    def divide(self, a, b):\n",
    "        if b == 0:\n",
    "            raise ValueError(\"Cannot be divided by zero.\")\n",
    "        return a / b\n",
    "\n",
    "\n",
    "calc = Calculator()\n",
    "print(calc.add(11, 52))\n",
    "print(calc.subtract(15, 5))\n",
    "print(calc.multiply(32, 4))\n",
    "print(calc.divide(30, 7))\n"
   ]
  },
  {
   "cell_type": "code",
   "execution_count": 2,
   "id": "3d77d1a6",
   "metadata": {},
   "outputs": [
    {
     "name": "stdout",
     "output_type": "stream",
     "text": [
      "Brand: Tesla, Model: Model S, Doors: 4, Battery: 100 kWh\n"
     ]
    }
   ],
   "source": [
    "#Implement a Vehicle → Car → ElectricCar hierarchy and demonstratemultilevel inheritance\n",
    "class Vehicle:\n",
    "    def __init__(self, brand, model):\n",
    "        self.brand = brand\n",
    "        self.model = model\n",
    "\n",
    "    def display_info(self):\n",
    "        return f\"Brand: {self.brand}, Model: {self.model}\"\n",
    "\n",
    "\n",
    "class Car(Vehicle):\n",
    "    def __init__(self, brand, model, doors):\n",
    "        super().__init__(brand, model)\n",
    "        self.doors = doors\n",
    "\n",
    "    def display_info(self):\n",
    "        return f\"{super().display_info()}, Doors: {self.doors}\"\n",
    "\n",
    "\n",
    "class ElectricCar(Car):\n",
    "    def __init__(self, brand, model, doors, battery_capacity):\n",
    "        super().__init__(brand, model, doors)\n",
    "        self.battery_capacity = battery_capacity\n",
    "\n",
    "    def display_info(self):\n",
    "        return f\"{super().display_info()}, Battery: {self.battery_capacity} kWh\"\n",
    "\n",
    "\n",
    "# Demonstration of multilevel inheritance\n",
    "ev = ElectricCar(\"Tesla\", \"Model S\", 4, 100)\n",
    "print(ev.display_info())\n"
   ]
  },
  {
   "cell_type": "code",
   "execution_count": null,
   "id": "477cdccf",
   "metadata": {},
   "outputs": [
    {
     "name": "stdout",
     "output_type": "stream",
     "text": [
      "Rectangle area: 50\n",
      "Circle area: 153.93804002589985\n"
     ]
    }
   ],
   "source": [
    "#Create a Shape base class with a method area(). Derive Rectangle and Circle classes overriding area().\n",
    "import math\n",
    "\n",
    "class Shape:\n",
    "    def area(self):\n",
    "        raise NotImplementedError(\"Subclass must implement area()\")\n",
    "\n",
    "\n",
    "class Rectangle(Shape):\n",
    "    def __init__(self, width, height):\n",
    "        self.width = width\n",
    "        self.height = height\n",
    "\n",
    "    def area(self):\n",
    "        return self.width * self.height\n",
    "\n",
    "\n",
    "class Circle(Shape):\n",
    "    def __init__(self, radius):\n",
    "        self.radius = radius\n",
    "\n",
    "    def area(self):\n",
    "        return math.pi * (self.radius ** 2)\n",
    "\n",
    "\n",
    "# Demonstration\n",
    "rect = Rectangle(10, 5)\n",
    "circle = Circle(7)\n",
    "\n",
    "print(\"Rectangle area:\", rect.area())\n",
    "print(\"Circle area:\", circle.area())\n",
    "\n"
   ]
  },
  {
   "cell_type": "code",
   "execution_count": 4,
   "id": "1d2cb8c6",
   "metadata": {},
   "outputs": [
    {
     "name": "stdout",
     "output_type": "stream",
     "text": [
      "Lines: 1\n",
      "Words: 2\n",
      "Characters: 15\n"
     ]
    }
   ],
   "source": [
    "#Write a program to read a text file and count words, lines, and characters.\n",
    "def count_file_stats(filename):\n",
    "    try:\n",
    "        with open(filename, \"r\", encoding=\"utf-8\") as file:\n",
    "            text = file.read()\n",
    "            \n",
    "            # Count characters\n",
    "            char_count = len(text)\n",
    "            \n",
    "            # Count lines\n",
    "            file.seek(0)  # Reset file pointer\n",
    "            line_count = sum(1 for _ in file)\n",
    "            \n",
    "            # Count words\n",
    "            word_count = len(text.split())\n",
    "            \n",
    "            return line_count, word_count, char_count\n",
    "    except FileNotFoundError:\n",
    "        print(f\"Error: File '{filename}' not found.\")\n",
    "        return None\n",
    "\n",
    "\n",
    "if __name__ == \"__main__\":\n",
    "    filename = input(\"Enter the filename: \").strip()\n",
    "    result = count_file_stats(filename)\n",
    "    if result:\n",
    "        lines, words, chars = result\n",
    "        print(f\"Lines: {lines}\")\n",
    "        print(f\"Words: {words}\")\n",
    "        print(f\"Characters: {chars}\")\n"
   ]
  },
  {
   "cell_type": "code",
   "execution_count": 5,
   "id": "b99b6b7e",
   "metadata": {},
   "outputs": [
    {
     "name": "stdout",
     "output_type": "stream",
     "text": [
      "Using read():\n",
      "Hello, world!\n",
      "This is the second line.\n",
      "And here is the third line.\n",
      "First extra line.\n",
      "Second extra line.\n",
      "Third extra line.\n",
      "\n",
      "\n",
      "Using readline():\n",
      "Hello, world!\n",
      "This is the second line.\n",
      "\n",
      "Using readlines():\n",
      "['Hello, world!\\n', 'This is the second line.\\n', 'And here is the third line.\\n', 'First extra line.\\n', 'Second extra line.\\n', 'Third extra line.\\n']\n"
     ]
    }
   ],
   "source": [
    "#Demonstrate use of read(), readline(), readlines(), write(), and writelines().\n",
    "# Step 1: Write to a file using write()\n",
    "with open(\"example.txt\", \"w\", encoding=\"utf-8\") as f:\n",
    "    f.write(\"Hello, world!\\n\")\n",
    "    f.write(\"This is the second line.\\n\")\n",
    "    f.write(\"And here is the third line.\\n\")\n",
    "\n",
    "# Step 2: Write multiple lines using writelines()\n",
    "lines = [\"First extra line.\\n\", \"Second extra line.\\n\", \"Third extra line.\\n\"]\n",
    "with open(\"example.txt\", \"a\", encoding=\"utf-8\") as f:  # \"a\" = append\n",
    "    f.writelines(lines)\n",
    "\n",
    "# Step 3: Read the entire file using read()\n",
    "with open(\"example.txt\", \"r\", encoding=\"utf-8\") as f:\n",
    "    print(\"Using read():\")\n",
    "    print(f.read())\n",
    "\n",
    "# Step 4: Read line by line using readline()\n",
    "with open(\"example.txt\", \"r\", encoding=\"utf-8\") as f:\n",
    "    print(\"\\nUsing readline():\")\n",
    "    print(f.readline(), end=\"\")  # first line\n",
    "    print(f.readline(), end=\"\")  # second line\n",
    "\n",
    "# Step 5: Read all lines into a list using readlines()\n",
    "with open(\"example.txt\", \"r\", encoding=\"utf-8\") as f:\n",
    "    print(\"\\nUsing readlines():\")\n",
    "    lines_list = f.readlines()\n",
    "    print(lines_list)\n"
   ]
  },
  {
   "cell_type": "code",
   "execution_count": 6,
   "id": "547b73b4",
   "metadata": {},
   "outputs": [
    {
     "name": "stdout",
     "output_type": "stream",
     "text": [
      "Current Date: 2025-09-10\n",
      "Current Time: 14:27:11\n",
      "Day of the Week: Wednesday\n"
     ]
    }
   ],
   "source": [
    "#Print current date, time, and day of the week.\n",
    "from datetime import datetime\n",
    "\n",
    "now = datetime.now()\n",
    "current_date = now.strftime(\"%Y-%m-%d\")\n",
    "current_time = now.strftime(\"%H:%M:%S\")\n",
    "day_of_week = now.strftime(\"%A\")\n",
    "\n",
    "print(\"Current Date:\", current_date)\n",
    "print(\"Current Time:\", current_time)\n",
    "print(\"Day of the Week:\", day_of_week)\n"
   ]
  },
  {
   "cell_type": "code",
   "execution_count": 7,
   "id": "0a59858c",
   "metadata": {},
   "outputs": [
    {
     "name": "stdout",
     "output_type": "stream",
     "text": [
      "Your age is: 23\n"
     ]
    }
   ],
   "source": [
    "#Write a program to calculate age from a given date of birth.\n",
    "from datetime import date, datetime\n",
    "\n",
    "dob_input = input(\"Enter your date of birth (YYYY-MM-DD): \")\n",
    "dob = datetime.strptime(dob_input, \"%Y-%m-%d\").date()\n",
    "today = date.today()\n",
    "\n",
    "age = today.year - dob.year - ((today.month, today.day) < (dob.month, dob.day))\n",
    "\n",
    "print(\"Your age is:\", age)\n"
   ]
  },
  {
   "cell_type": "code",
   "execution_count": 8,
   "id": "ebcb84d0",
   "metadata": {},
   "outputs": [
    {
     "name": "stdout",
     "output_type": "stream",
     "text": [
      "Error: Division by zero is not allowed.\n"
     ]
    }
   ],
   "source": [
    "#Write a program to handle division by zero exception.\n",
    "try:\n",
    "    numerator = int(input(\"Enter numerator: \"))\n",
    "    denominator = int(input(\"Enter denominator: \"))\n",
    "    result = numerator / denominator\n",
    "    print(\"Result:\", result)\n",
    "except ZeroDivisionError:\n",
    "    print(\"Error: Division by zero is not allowed.\")\n"
   ]
  },
  {
   "cell_type": "code",
   "execution_count": 10,
   "id": "d4aea45a",
   "metadata": {},
   "outputs": [
    {
     "name": "stdout",
     "output_type": "stream",
     "text": [
      "Error: Negative values are not allowed.\n"
     ]
    }
   ],
   "source": [
    "class NegativeValueError(Exception):\n",
    "    pass\n",
    "\n",
    "try:\n",
    "    num = int(input(\"Enter a positive number: \"))\n",
    "    if num < 0:\n",
    "        raise NegativeValueError(\"Negative values are not allowed.\")\n",
    "    print(\"You entered:\", num)\n",
    "except NegativeValueError as e:\n",
    "    print(\"Error:\", e)\n"
   ]
  },
  {
   "cell_type": "code",
   "execution_count": 12,
   "id": "f64c2043",
   "metadata": {},
   "outputs": [
    {
     "name": "stdout",
     "output_type": "stream",
     "text": [
      "Error: Division by zero is not allowed.\n",
      "Execution completed.\n"
     ]
    }
   ],
   "source": [
    "#Demonstrate use of try-except-else-finally.\n",
    "try:\n",
    "    num1 = int(input(\"Enter numerator: \"))\n",
    "    num2 = int(input(\"Enter denominator: \"))\n",
    "    result = num1 / num2\n",
    "except ZeroDivisionError:\n",
    "    print(\"Error: Division by zero is not allowed.\")\n",
    "except ValueError:\n",
    "    print(\"Error: Please enter valid integers.\")\n",
    "else:\n",
    "    print(\"Division successful. Result:\", result)\n",
    "finally:\n",
    "    print(\"Execution completed.\")\n"
   ]
  }
 ],
 "metadata": {
  "kernelspec": {
   "display_name": "Python 3",
   "language": "python",
   "name": "python3"
  },
  "language_info": {
   "codemirror_mode": {
    "name": "ipython",
    "version": 3
   },
   "file_extension": ".py",
   "mimetype": "text/x-python",
   "name": "python",
   "nbconvert_exporter": "python",
   "pygments_lexer": "ipython3",
   "version": "3.8.10"
  }
 },
 "nbformat": 4,
 "nbformat_minor": 5
}
