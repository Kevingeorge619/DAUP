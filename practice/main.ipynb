{
 "cells": [
  {
   "cell_type": "code",
   "execution_count": 1,
   "id": "7bb605d6",
   "metadata": {},
   "outputs": [
    {
     "name": "stdout",
     "output_type": "stream",
     "text": [
      "[[1. 1. 1. 1.]\n",
      " [1. 1. 1. 1.]\n",
      " [1. 1. 1. 1.]]\n"
     ]
    }
   ],
   "source": [
    "#Create a numpy array filled with all ones by defining its shape.\n",
    "\n",
    "import numpy as np\n",
    "\n",
    "shape = (3, 4)\n",
    "arr = np.ones(shape)\n",
    "print(arr)\n"
   ]
  },
  {
   "cell_type": "code",
   "execution_count": 2,
   "id": "2de4960c",
   "metadata": {},
   "outputs": [
    {
     "name": "stdout",
     "output_type": "stream",
     "text": [
      "[[1. 2. 3.]\n",
      " [7. 8. 9.]]\n"
     ]
    }
   ],
   "source": [
    "#How do you remove rows from a Numpy array that contains non-numeric values?\n",
    "import numpy as np\n",
    "\n",
    "arr = np.array([\n",
    "    [\"1\", \"2\", \"3\"],\n",
    "    [\"4\", \"five\", \"6\"],\n",
    "    [\"7\", \"8\", \"9\"],\n",
    "    [\"ten\", \"11\", \"12\"]\n",
    "])\n",
    "\n",
    "def is_numeric_row(row):\n",
    "    try:\n",
    "        row.astype(float)\n",
    "        return True\n",
    "    except ValueError:\n",
    "        return False\n",
    "\n",
    "filtered = np.array([row for row in arr if is_numeric_row(row)], dtype=float)\n",
    "\n",
    "print(filtered)\n"
   ]
  },
  {
   "cell_type": "code",
   "execution_count": 3,
   "id": "a6c0f4c5",
   "metadata": {},
   "outputs": [
    {
     "name": "stdout",
     "output_type": "stream",
     "text": [
      "Original shape: (1, 1, 3)\n",
      "Squeezed shape: (3,)\n",
      "[1 2 3]\n"
     ]
    }
   ],
   "source": [
    "#Remove single-dimensional entries from the shape of an array\n",
    "import numpy as np\n",
    "\n",
    "arr = np.array([[[1, 2, 3]]])  \n",
    "print(\"Original shape:\", arr.shape)\n",
    "\n",
    "squeezed = np.squeeze(arr)\n",
    "print(\"Squeezed shape:\", squeezed.shape)\n",
    "print(squeezed)\n"
   ]
  },
  {
   "cell_type": "code",
   "execution_count": 4,
   "id": "786112a9",
   "metadata": {},
   "outputs": [
    {
     "name": "stdout",
     "output_type": "stream",
     "text": [
      "True\n",
      "False\n",
      "[ True False  True]\n"
     ]
    }
   ],
   "source": [
    "# How do you check whether specified values are present in the NumPy array?\n",
    "\n",
    "import numpy as np\n",
    "\n",
    "arr = np.array([10, 20, 30, 40, 50])\n",
    "print(20 in arr)      \n",
    "print(25 in arr)      \n",
    "values = [20, 25, 50]\n",
    "result = np.isin(values, arr)\n",
    "print(result)        \n"
   ]
  },
  {
   "cell_type": "code",
   "execution_count": 5,
   "id": "2f28e717",
   "metadata": {},
   "outputs": [
    {
     "name": "stdout",
     "output_type": "stream",
     "text": [
      "Original array:\n",
      " [[12  5  7]\n",
      " [ 1  9  3]]\n",
      "Sorted along first axis:\n",
      " [[ 1  5  3]\n",
      " [12  9  7]]\n",
      "Sorted along last axis:\n",
      " [[ 5  7 12]\n",
      " [ 1  3  9]]\n",
      "Sorted flattened array:\n",
      " [ 1  3  5  7  9 12]\n"
     ]
    }
   ],
   "source": [
    "# Write a NumPy program to sort a given array of shape 2 along the first axis, last axis, and flattened array.\n",
    "\n",
    "import numpy as np\n",
    "\n",
    "arr = np.array([[12, 5, 7],\n",
    "                [1, 9, 3]])\n",
    "\n",
    "sorted_first_axis = np.sort(arr, axis=0)\n",
    "sorted_last_axis = np.sort(arr, axis=-1)\n",
    "sorted_flattened = np.sort(arr, axis=None)\n",
    "\n",
    "print(\"Original array:\\n\", arr)\n",
    "print(\"Sorted along first axis:\\n\", sorted_first_axis)\n",
    "print(\"Sorted along last axis:\\n\", sorted_last_axis)\n",
    "print(\"Sorted flattened array:\\n\", sorted_flattened)\n"
   ]
  },
  {
   "cell_type": "code",
   "execution_count": 6,
   "id": "84db4e96",
   "metadata": {},
   "outputs": [
    {
     "name": "stdout",
     "output_type": "stream",
     "text": [
      "[('Alice', 5.5,  9) ('Daisy', 5.7,  9) ('James', 5.9, 10) ('Bob', 6. , 10)]\n"
     ]
    }
   ],
   "source": [
    "# Write a NumPy program to create a structured array from a given student name, height, class, and data type. Now sort by class, then height if the classes are equal.\n",
    "\n",
    "import numpy as np\n",
    "\n",
    "data = np.array([\n",
    "    ('James', 5.9, 10),\n",
    "    ('Alice', 5.5, 9),\n",
    "    ('Bob', 6.0, 10),\n",
    "    ('Daisy', 5.7, 9)\n",
    "], dtype=[('name', 'U10'), ('height', 'f4'), ('class', 'i4')])\n",
    "\n",
    "sorted_data = np.sort(data, order=['class', 'height'])\n",
    "\n",
    "print(sorted_data)\n"
   ]
  },
  {
   "cell_type": "code",
   "execution_count": 7,
   "id": "cfa421c0",
   "metadata": {},
   "outputs": [
    {
     "name": "stdout",
     "output_type": "stream",
     "text": [
      "Original array: [2.+3.j 1.+2.j 2.+1.j 1.+4.j 3.+0.j]\n",
      "Sorted array: [1.+2.j 1.+4.j 2.+1.j 2.+3.j 3.+0.j]\n"
     ]
    }
   ],
   "source": [
    "# Write a NumPy program to sort a given complex array using the real part first, then the imaginary part.\n",
    "\n",
    "import numpy as np\n",
    "\n",
    "arr = np.array([2+3j, 1+2j, 2+1j, 1+4j, 3+0j])\n",
    "\n",
    "sorted_arr = np.array(sorted(arr, key=lambda x: (x.real, x.imag)))\n",
    "\n",
    "print(\"Original array:\", arr)\n",
    "print(\"Sorted array:\", sorted_arr)\n"
   ]
  },
  {
   "cell_type": "code",
   "execution_count": 8,
   "id": "c4c0a96a",
   "metadata": {},
   "outputs": [
    {
     "name": "stdout",
     "output_type": "stream",
     "text": [
      "Original array:\n",
      " [[10  2 30]\n",
      " [ 4 15  6]\n",
      " [ 7  8  1]\n",
      " [ 3 12  9]]\n",
      "Array sorted by column 1:\n",
      " [[10  2 30]\n",
      " [ 7  8  1]\n",
      " [ 3 12  9]\n",
      " [ 4 15  6]]\n"
     ]
    }
   ],
   "source": [
    "# Write a NumPy program to sort a given array by the nth column.\n",
    "\n",
    "import numpy as np\n",
    "\n",
    "arr = np.array([[10, 2, 30],\n",
    "                [4, 15, 6],\n",
    "                [7, 8, 1],\n",
    "                [3, 12, 9]])\n",
    "\n",
    "n = 1\n",
    "sorted_arr = arr[arr[:, n].argsort()]\n",
    "\n",
    "print(\"Original array:\\n\", arr)\n",
    "print(f\"Array sorted by column {n}:\\n\", sorted_arr)\n"
   ]
  },
  {
   "cell_type": "code",
   "execution_count": 9,
   "id": "e00e4ce6",
   "metadata": {},
   "outputs": [
    {
     "name": "stdout",
     "output_type": "stream",
     "text": [
      "Array:\n",
      " [[5 2 3]\n",
      " [4 6 7]\n",
      " [8 9 1]]\n",
      "Sum of diagonal elements: 12\n"
     ]
    }
   ],
   "source": [
    "# Calculate the sum of the diagonal elements of a NumPy array\n",
    "\n",
    "import numpy as np\n",
    "\n",
    "arr = np.array([[5, 2, 3],\n",
    "                [4, 6, 7],\n",
    "                [8, 9, 1]])\n",
    "\n",
    "diag_sum = np.trace(arr)\n",
    "\n",
    "print(\"Array:\\n\", arr)\n",
    "print(\"Sum of diagonal elements:\", diag_sum)\n"
   ]
  },
  {
   "cell_type": "code",
   "execution_count": 10,
   "id": "5fa7edb9",
   "metadata": {},
   "outputs": [
    {
     "name": "stdout",
     "output_type": "stream",
     "text": [
      "Matrix A:\n",
      " [[1 2 3]\n",
      " [4 5 6]]\n",
      "Matrix B:\n",
      " [[ 7  8]\n",
      " [ 9 10]\n",
      " [11 12]]\n",
      "Result of Matrix Multiplication:\n",
      " [[ 58  64]\n",
      " [139 154]]\n"
     ]
    }
   ],
   "source": [
    "# Write a program for Matrix Multiplication in NumPy\n",
    "\n",
    "import numpy as np\n",
    "\n",
    "A = np.array([[1, 2, 3],\n",
    "              [4, 5, 6]])\n",
    "\n",
    "B = np.array([[7, 8],\n",
    "              [9, 10],\n",
    "              [11, 12]])\n",
    "\n",
    "result = np.matmul(A, B)\n",
    "\n",
    "print(\"Matrix A:\\n\", A)\n",
    "print(\"Matrix B:\\n\", B)\n",
    "print(\"Result of Matrix Multiplication:\\n\", result)\n"
   ]
  }
 ],
 "metadata": {
  "kernelspec": {
   "display_name": "Python 3",
   "language": "python",
   "name": "python3"
  },
  "language_info": {
   "codemirror_mode": {
    "name": "ipython",
    "version": 3
   },
   "file_extension": ".py",
   "mimetype": "text/x-python",
   "name": "python",
   "nbconvert_exporter": "python",
   "pygments_lexer": "ipython3",
   "version": "3.8.10"
  }
 },
 "nbformat": 4,
 "nbformat_minor": 5
}
