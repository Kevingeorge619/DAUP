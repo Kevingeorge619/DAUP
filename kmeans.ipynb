{
 "cells": [
  {
   "cell_type": "code",
   "execution_count": 10,
   "id": "9cf189e7",
   "metadata": {},
   "outputs": [],
   "source": [
    "import pandas as pd\n",
    "import numpy as np\n",
    "from sklearn.cluster import KMeans\n",
    "from sklearn.preprocessing import MinMaxScaler\n",
    "from matplotlib import pyplot as plt\n",
    "%matplotlib inline"
   ]
  },
  {
   "cell_type": "code",
   "execution_count": 11,
   "id": "1c6e74e2",
   "metadata": {},
   "outputs": [
    {
     "data": {
      "text/html": [
       "<div>\n",
       "<style scoped>\n",
       "    .dataframe tbody tr th:only-of-type {\n",
       "        vertical-align: middle;\n",
       "    }\n",
       "\n",
       "    .dataframe tbody tr th {\n",
       "        vertical-align: top;\n",
       "    }\n",
       "\n",
       "    .dataframe thead th {\n",
       "        text-align: right;\n",
       "    }\n",
       "</style>\n",
       "<table border=\"1\" class=\"dataframe\">\n",
       "  <thead>\n",
       "    <tr style=\"text-align: right;\">\n",
       "      <th></th>\n",
       "      <th>area</th>\n",
       "      <th>perimeter</th>\n",
       "      <th>compactness</th>\n",
       "      <th>length</th>\n",
       "      <th>width</th>\n",
       "      <th>asymmetry_coefficient</th>\n",
       "      <th>groove_length</th>\n",
       "      <th>grain_variety</th>\n",
       "    </tr>\n",
       "  </thead>\n",
       "  <tbody>\n",
       "    <tr>\n",
       "      <th>0</th>\n",
       "      <td>14.88</td>\n",
       "      <td>14.57</td>\n",
       "      <td>0.8811</td>\n",
       "      <td>5.554</td>\n",
       "      <td>3.333</td>\n",
       "      <td>1.018</td>\n",
       "      <td>4.956</td>\n",
       "      <td>Kama wheat</td>\n",
       "    </tr>\n",
       "    <tr>\n",
       "      <th>1</th>\n",
       "      <td>14.69</td>\n",
       "      <td>14.49</td>\n",
       "      <td>0.8799</td>\n",
       "      <td>5.563</td>\n",
       "      <td>3.259</td>\n",
       "      <td>3.586</td>\n",
       "      <td>5.219</td>\n",
       "      <td>Kama wheat</td>\n",
       "    </tr>\n",
       "    <tr>\n",
       "      <th>2</th>\n",
       "      <td>14.03</td>\n",
       "      <td>14.16</td>\n",
       "      <td>0.8796</td>\n",
       "      <td>5.438</td>\n",
       "      <td>3.201</td>\n",
       "      <td>1.717</td>\n",
       "      <td>5.001</td>\n",
       "      <td>Kama wheat</td>\n",
       "    </tr>\n",
       "    <tr>\n",
       "      <th>3</th>\n",
       "      <td>13.99</td>\n",
       "      <td>13.83</td>\n",
       "      <td>0.9183</td>\n",
       "      <td>5.119</td>\n",
       "      <td>3.383</td>\n",
       "      <td>5.234</td>\n",
       "      <td>4.781</td>\n",
       "      <td>Kama wheat</td>\n",
       "    </tr>\n",
       "    <tr>\n",
       "      <th>4</th>\n",
       "      <td>14.11</td>\n",
       "      <td>14.26</td>\n",
       "      <td>0.8722</td>\n",
       "      <td>5.520</td>\n",
       "      <td>3.168</td>\n",
       "      <td>2.688</td>\n",
       "      <td>5.219</td>\n",
       "      <td>Kama wheat</td>\n",
       "    </tr>\n",
       "  </tbody>\n",
       "</table>\n",
       "</div>"
      ],
      "text/plain": [
       "    area  perimeter  compactness  length  width  asymmetry_coefficient  \\\n",
       "0  14.88      14.57       0.8811   5.554  3.333                  1.018   \n",
       "1  14.69      14.49       0.8799   5.563  3.259                  3.586   \n",
       "2  14.03      14.16       0.8796   5.438  3.201                  1.717   \n",
       "3  13.99      13.83       0.9183   5.119  3.383                  5.234   \n",
       "4  14.11      14.26       0.8722   5.520  3.168                  2.688   \n",
       "\n",
       "   groove_length grain_variety  \n",
       "0          4.956    Kama wheat  \n",
       "1          5.219    Kama wheat  \n",
       "2          5.001    Kama wheat  \n",
       "3          4.781    Kama wheat  \n",
       "4          5.219    Kama wheat  "
      ]
     },
     "execution_count": 11,
     "metadata": {},
     "output_type": "execute_result"
    }
   ],
   "source": [
    "df = pd.read_csv(\"seeds-less-rows.csv\")\n",
    "df.head()"
   ]
  },
  {
   "cell_type": "code",
   "execution_count": 12,
   "id": "fdc10c8a",
   "metadata": {},
   "outputs": [
    {
     "data": {
      "text/plain": [
       "area                     0\n",
       "perimeter                0\n",
       "compactness              0\n",
       "length                   0\n",
       "width                    0\n",
       "asymmetry_coefficient    0\n",
       "groove_length            0\n",
       "grain_variety            0\n",
       "dtype: int64"
      ]
     },
     "execution_count": 12,
     "metadata": {},
     "output_type": "execute_result"
    }
   ],
   "source": [
    "df.isna().sum()  #checking missing values"
   ]
  },
  {
   "cell_type": "code",
   "execution_count": 13,
   "id": "3f272326",
   "metadata": {},
   "outputs": [
    {
     "data": {
      "text/plain": [
       "Text(0, 0.5, 'grain_variety')"
      ]
     },
     "execution_count": 13,
     "metadata": {},
     "output_type": "execute_result"
    },
    {
     "data": {
      "image/png": "[encoded data removed]",
      "text/plain": [
       "<Figure size 640x480 with 1 Axes>"
      ]
     },
     "metadata": {},
     "output_type": "display_data"
    }
   ],
   "source": [
    "plt.scatter(df.area,df['grain_variety'])\n",
    "plt.xlabel('area')\n",
    "plt.ylabel('grain_variety')"
   ]
  },
  {
   "cell_type": "code",
   "execution_count": 15,
   "id": "4c5b77e7",
   "metadata": {},
   "outputs": [
    {
     "name": "stderr",
     "output_type": "stream",
     "text": [
      "/Library/Frameworks/Python.framework/Versions/3.8/lib/python3.8/site-packages/sklearn/cluster/_kmeans.py:1416: FutureWarning: The default value of `n_init` will change from 10 to 'auto' in 1.4. Set the value of `n_init` explicitly to suppress the warning\n",
      "  super()._check_params_vs_input(X, default_n_init=10)\n"
     ]
    },
    {
     "data": {
      "text/plain": [
       "array([2, 2, 2, 2, 2, 1, 2, 2, 2, 2, 2, 2, 1, 2, 0, 0, 0, 0, 0, 0, 0, 0,\n",
       "       0, 0, 0, 0, 0, 0, 2, 1, 1, 1, 1, 1, 1, 1, 1, 1, 1, 1, 1, 1],\n",
       "      dtype=int32)"
      ]
     },
     "execution_count": 15,
     "metadata": {},
     "output_type": "execute_result"
    }
   ],
   "source": [
    "km = KMeans(n_clusters=3)\n",
    "y_predicted =km.fit_predict(df[['area','groove_length']])\n",
    "y_predicted"
   ]
  },
  {
   "cell_type": "code",
   "execution_count": 16,
   "id": "42cbd86d",
   "metadata": {},
   "outputs": [
    {
     "data": {
      "text/html": [
       "<div>\n",
       "<style scoped>\n",
       "    .dataframe tbody tr th:only-of-type {\n",
       "        vertical-align: middle;\n",
       "    }\n",
       "\n",
       "    .dataframe tbody tr th {\n",
       "        vertical-align: top;\n",
       "    }\n",
       "\n",
       "    .dataframe thead th {\n",
       "        text-align: right;\n",
       "    }\n",
       "</style>\n",
       "<table border=\"1\" class=\"dataframe\">\n",
       "  <thead>\n",
       "    <tr style=\"text-align: right;\">\n",
       "      <th></th>\n",
       "      <th>area</th>\n",
       "      <th>perimeter</th>\n",
       "      <th>compactness</th>\n",
       "      <th>length</th>\n",
       "      <th>width</th>\n",
       "      <th>asymmetry_coefficient</th>\n",
       "      <th>groove_length</th>\n",
       "      <th>grain_variety</th>\n",
       "      <th>cluster</th>\n",
       "    </tr>\n",
       "  </thead>\n",
       "  <tbody>\n",
       "    <tr>\n",
       "      <th>0</th>\n",
       "      <td>14.88</td>\n",
       "      <td>14.57</td>\n",
       "      <td>0.8811</td>\n",
       "      <td>5.554</td>\n",
       "      <td>3.333</td>\n",
       "      <td>1.018</td>\n",
       "      <td>4.956</td>\n",
       "      <td>Kama wheat</td>\n",
       "      <td>2</td>\n",
       "    </tr>\n",
       "    <tr>\n",
       "      <th>1</th>\n",
       "      <td>14.69</td>\n",
       "      <td>14.49</td>\n",
       "      <td>0.8799</td>\n",
       "      <td>5.563</td>\n",
       "      <td>3.259</td>\n",
       "      <td>3.586</td>\n",
       "      <td>5.219</td>\n",
       "      <td>Kama wheat</td>\n",
       "      <td>2</td>\n",
       "    </tr>\n",
       "    <tr>\n",
       "      <th>2</th>\n",
       "      <td>14.03</td>\n",
       "      <td>14.16</td>\n",
       "      <td>0.8796</td>\n",
       "      <td>5.438</td>\n",
       "      <td>3.201</td>\n",
       "      <td>1.717</td>\n",
       "      <td>5.001</td>\n",
       "      <td>Kama wheat</td>\n",
       "      <td>2</td>\n",
       "    </tr>\n",
       "    <tr>\n",
       "      <th>3</th>\n",
       "      <td>13.99</td>\n",
       "      <td>13.83</td>\n",
       "      <td>0.9183</td>\n",
       "      <td>5.119</td>\n",
       "      <td>3.383</td>\n",
       "      <td>5.234</td>\n",
       "      <td>4.781</td>\n",
       "      <td>Kama wheat</td>\n",
       "      <td>2</td>\n",
       "    </tr>\n",
       "    <tr>\n",
       "      <th>4</th>\n",
       "      <td>14.11</td>\n",
       "      <td>14.26</td>\n",
       "      <td>0.8722</td>\n",
       "      <td>5.520</td>\n",
       "      <td>3.168</td>\n",
       "      <td>2.688</td>\n",
       "      <td>5.219</td>\n",
       "      <td>Kama wheat</td>\n",
       "      <td>2</td>\n",
       "    </tr>\n",
       "  </tbody>\n",
       "</table>\n",
       "</div>"
      ],
      "text/plain": [
       "    area  perimeter  compactness  length  width  asymmetry_coefficient  \\\n",
       "0  14.88      14.57       0.8811   5.554  3.333                  1.018   \n",
       "1  14.69      14.49       0.8799   5.563  3.259                  3.586   \n",
       "2  14.03      14.16       0.8796   5.438  3.201                  1.717   \n",
       "3  13.99      13.83       0.9183   5.119  3.383                  5.234   \n",
       "4  14.11      14.26       0.8722   5.520  3.168                  2.688   \n",
       "\n",
       "   groove_length grain_variety  cluster  \n",
       "0          4.956    Kama wheat        2  \n",
       "1          5.219    Kama wheat        2  \n",
       "2          5.001    Kama wheat        2  \n",
       "3          4.781    Kama wheat        2  \n",
       "4          5.219    Kama wheat        2  "
      ]
     },
     "execution_count": 16,
     "metadata": {},
     "output_type": "execute_result"
    }
   ],
   "source": [
    "df['cluster'] = y_predicted\n",
    "df.head()"
   ]
  },
  {
   "cell_type": "code",
   "execution_count": 17,
   "id": "7f792c8f",
   "metadata": {},
   "outputs": [
    {
     "data": {
      "text/plain": [
       "array([[18.43571429,  5.99021429],\n",
       "       [11.902     ,  5.051     ],\n",
       "       [14.62692308,  5.15453846]])"
      ]
     },
     "execution_count": 17,
     "metadata": {},
     "output_type": "execute_result"
    }
   ],
   "source": [
    "km.cluster_centers_"
   ]
  },
  {
   "cell_type": "code",
   "execution_count": 18,
   "id": "105ab793",
   "metadata": {},
   "outputs": [
    {
     "data": {
      "text/plain": [
       "<matplotlib.legend.Legend at 0x300588b50>"
      ]
     },
     "execution_count": 18,
     "metadata": {},
     "output_type": "execute_result"
    },
    {
     "data": {
      "image/png": "[encoded data removed]",
      "text/plain": [
       "<Figure size 640x480 with 1 Axes>"
      ]
     },
     "metadata": {},
     "output_type": "display_data"
    }
   ],
   "source": [
    "df1 = df[df.cluster==0]\n",
    "df2 = df[df.cluster==1]\n",
    "df3 = df[df.cluster==2]\n",
    "plt.scatter(df1.area,df1['groove_length'],color ='green')\n",
    "plt.scatter(df2.area,df2['groove_length'],color ='red')\n",
    "plt.scatter(df3.area,df3['groove_length'],color ='black')\n",
    "plt.scatter(km.cluster_centers_[:,0],km.cluster_centers_[:,1],color ='purple', marker='*', label =\"centroid\")\n",
    "plt.xlabel('area')\n",
    "plt.ylabel('groove_length')\n",
    "plt.legend()"
   ]
  },
  {
   "cell_type": "code",
   "execution_count": 19,
   "id": "9914a480",
   "metadata": {},
   "outputs": [],
   "source": [
    "scaler = MinMaxScaler()\n",
    "scaler.fit(df[['groove_length']])\n",
    "df['groove_length'] = scaler.transform(df[['groove_length']])\n",
    "\n",
    "scaler.fit(df[['area']])\n",
    "df['area'] = scaler.transform(df[['area']])"
   ]
  },
  {
   "cell_type": "code",
   "execution_count": 22,
   "id": "20b1b993",
   "metadata": {},
   "outputs": [
    {
     "data": {
      "text/html": [
       "<div>\n",
       "<style scoped>\n",
       "    .dataframe tbody tr th:only-of-type {\n",
       "        vertical-align: middle;\n",
       "    }\n",
       "\n",
       "    .dataframe tbody tr th {\n",
       "        vertical-align: top;\n",
       "    }\n",
       "\n",
       "    .dataframe thead th {\n",
       "        text-align: right;\n",
       "    }\n",
       "</style>\n",
       "<table border=\"1\" class=\"dataframe\">\n",
       "  <thead>\n",
       "    <tr style=\"text-align: right;\">\n",
       "      <th></th>\n",
       "      <th>area</th>\n",
       "      <th>perimeter</th>\n",
       "      <th>compactness</th>\n",
       "      <th>length</th>\n",
       "      <th>width</th>\n",
       "      <th>asymmetry_coefficient</th>\n",
       "      <th>groove_length</th>\n",
       "      <th>grain_variety</th>\n",
       "      <th>cluster</th>\n",
       "    </tr>\n",
       "  </thead>\n",
       "  <tbody>\n",
       "    <tr>\n",
       "      <th>0</th>\n",
       "      <td>0.447853</td>\n",
       "      <td>14.57</td>\n",
       "      <td>0.8811</td>\n",
       "      <td>5.554</td>\n",
       "      <td>3.333</td>\n",
       "      <td>1.018</td>\n",
       "      <td>0.164821</td>\n",
       "      <td>Kama wheat</td>\n",
       "      <td>2</td>\n",
       "    </tr>\n",
       "    <tr>\n",
       "      <th>1</th>\n",
       "      <td>0.424540</td>\n",
       "      <td>14.49</td>\n",
       "      <td>0.8799</td>\n",
       "      <td>5.563</td>\n",
       "      <td>3.259</td>\n",
       "      <td>3.586</td>\n",
       "      <td>0.336156</td>\n",
       "      <td>Kama wheat</td>\n",
       "      <td>2</td>\n",
       "    </tr>\n",
       "    <tr>\n",
       "      <th>2</th>\n",
       "      <td>0.343558</td>\n",
       "      <td>14.16</td>\n",
       "      <td>0.8796</td>\n",
       "      <td>5.438</td>\n",
       "      <td>3.201</td>\n",
       "      <td>1.717</td>\n",
       "      <td>0.194137</td>\n",
       "      <td>Kama wheat</td>\n",
       "      <td>2</td>\n",
       "    </tr>\n",
       "    <tr>\n",
       "      <th>3</th>\n",
       "      <td>0.338650</td>\n",
       "      <td>13.83</td>\n",
       "      <td>0.9183</td>\n",
       "      <td>5.119</td>\n",
       "      <td>3.383</td>\n",
       "      <td>5.234</td>\n",
       "      <td>0.050814</td>\n",
       "      <td>Kama wheat</td>\n",
       "      <td>2</td>\n",
       "    </tr>\n",
       "    <tr>\n",
       "      <th>4</th>\n",
       "      <td>0.353374</td>\n",
       "      <td>14.26</td>\n",
       "      <td>0.8722</td>\n",
       "      <td>5.520</td>\n",
       "      <td>3.168</td>\n",
       "      <td>2.688</td>\n",
       "      <td>0.336156</td>\n",
       "      <td>Kama wheat</td>\n",
       "      <td>2</td>\n",
       "    </tr>\n",
       "    <tr>\n",
       "      <th>5</th>\n",
       "      <td>0.219632</td>\n",
       "      <td>13.76</td>\n",
       "      <td>0.8641</td>\n",
       "      <td>5.395</td>\n",
       "      <td>3.026</td>\n",
       "      <td>3.373</td>\n",
       "      <td>0.079479</td>\n",
       "      <td>Kama wheat</td>\n",
       "      <td>1</td>\n",
       "    </tr>\n",
       "    <tr>\n",
       "      <th>6</th>\n",
       "      <td>0.522699</td>\n",
       "      <td>14.94</td>\n",
       "      <td>0.8724</td>\n",
       "      <td>5.757</td>\n",
       "      <td>3.371</td>\n",
       "      <td>3.412</td>\n",
       "      <td>0.342020</td>\n",
       "      <td>Kama wheat</td>\n",
       "      <td>2</td>\n",
       "    </tr>\n",
       "    <tr>\n",
       "      <th>7</th>\n",
       "      <td>0.609816</td>\n",
       "      <td>15.27</td>\n",
       "      <td>0.8734</td>\n",
       "      <td>5.826</td>\n",
       "      <td>3.464</td>\n",
       "      <td>2.823</td>\n",
       "      <td>0.536808</td>\n",
       "      <td>Kama wheat</td>\n",
       "      <td>2</td>\n",
       "    </tr>\n",
       "    <tr>\n",
       "      <th>8</th>\n",
       "      <td>0.278528</td>\n",
       "      <td>13.85</td>\n",
       "      <td>0.8852</td>\n",
       "      <td>5.351</td>\n",
       "      <td>3.158</td>\n",
       "      <td>2.249</td>\n",
       "      <td>0.308143</td>\n",
       "      <td>Kama wheat</td>\n",
       "      <td>2</td>\n",
       "    </tr>\n",
       "    <tr>\n",
       "      <th>9</th>\n",
       "      <td>0.506748</td>\n",
       "      <td>14.76</td>\n",
       "      <td>0.8861</td>\n",
       "      <td>5.701</td>\n",
       "      <td>3.393</td>\n",
       "      <td>1.367</td>\n",
       "      <td>0.279479</td>\n",
       "      <td>Kama wheat</td>\n",
       "      <td>2</td>\n",
       "    </tr>\n",
       "  </tbody>\n",
       "</table>\n",
       "</div>"
      ],
      "text/plain": [
       "       area  perimeter  compactness  length  width  asymmetry_coefficient  \\\n",
       "0  0.447853      14.57       0.8811   5.554  3.333                  1.018   \n",
       "1  0.424540      14.49       0.8799   5.563  3.259                  3.586   \n",
       "2  0.343558      14.16       0.8796   5.438  3.201                  1.717   \n",
       "3  0.338650      13.83       0.9183   5.119  3.383                  5.234   \n",
       "4  0.353374      14.26       0.8722   5.520  3.168                  2.688   \n",
       "5  0.219632      13.76       0.8641   5.395  3.026                  3.373   \n",
       "6  0.522699      14.94       0.8724   5.757  3.371                  3.412   \n",
       "7  0.609816      15.27       0.8734   5.826  3.464                  2.823   \n",
       "8  0.278528      13.85       0.8852   5.351  3.158                  2.249   \n",
       "9  0.506748      14.76       0.8861   5.701  3.393                  1.367   \n",
       "\n",
       "   groove_length grain_variety  cluster  \n",
       "0       0.164821    Kama wheat        2  \n",
       "1       0.336156    Kama wheat        2  \n",
       "2       0.194137    Kama wheat        2  \n",
       "3       0.050814    Kama wheat        2  \n",
       "4       0.336156    Kama wheat        2  \n",
       "5       0.079479    Kama wheat        1  \n",
       "6       0.342020    Kama wheat        2  \n",
       "7       0.536808    Kama wheat        2  \n",
       "8       0.308143    Kama wheat        2  \n",
       "9       0.279479    Kama wheat        2  "
      ]
     },
     "execution_count": 22,
     "metadata": {},
     "output_type": "execute_result"
    }
   ],
   "source": [
    "df.head(10)"
   ]
  },
  {
   "cell_type": "code",
   "execution_count": null,
   "id": "556a8b78",
   "metadata": {},
   "outputs": [
    {
     "name": "stderr",
     "output_type": "stream",
     "text": [
      "/Library/Frameworks/Python.framework/Versions/3.8/lib/python3.8/site-packages/sklearn/cluster/_kmeans.py:1416: FutureWarning: The default value of `n_init` will change from 10 to 'auto' in 1.4. Set the value of `n_init` explicitly to suppress the warning\n",
      "  super()._check_params_vs_input(X, default_n_init=10)\n"
     ]
    },
    {
     "data": {
      "text/plain": [
       "array([2, 2, 2, 2, 2, 0, 2, 2, 2, 2, 2, 2, 0, 2, 1, 1, 1, 1, 1, 1, 1, 1,\n",
       "       1, 1, 1, 1, 1, 1, 2, 0, 0, 0, 0, 0, 0, 0, 0, 0, 0, 0, 0, 0],\n",
       "      dtype=int32)"
      ]
     },
     "execution_count": 24,
     "metadata": {},
     "output_type": "execute_result"
    }
   ],
   "source": [
    "km = KMeans(n_clusters=3)$\n",
    "y_predicted =km.fit_predict(df[['area','groove_length']])\n",
    "y_predicted"
   ]
  },
  {
   "cell_type": "code",
   "execution_count": 25,
   "id": "57ac29b8",
   "metadata": {},
   "outputs": [
    {
     "data": {
      "text/plain": [
       "array([[0.08245399, 0.2267101 ],\n",
       "       [0.88413672, 0.83857608],\n",
       "       [0.41680038, 0.29416186]])"
      ]
     },
     "execution_count": 25,
     "metadata": {},
     "output_type": "execute_result"
    }
   ],
   "source": [
    "km.cluster_centers_"
   ]
  }
 ],
 "metadata": {
  "kernelspec": {
   "display_name": "Python 3",
   "language": "python",
   "name": "python3"
  },
  "language_info": {
   "codemirror_mode": {
    "name": "ipython",
    "version": 3
   },
   "file_extension": ".py",
   "mimetype": "text/x-python",
   "name": "python",
   "nbconvert_exporter": "python",
   "pygments_lexer": "ipython3",
   "version": "3.8.10"
  }
 },
 "nbformat": 4,
 "nbformat_minor": 5
}
