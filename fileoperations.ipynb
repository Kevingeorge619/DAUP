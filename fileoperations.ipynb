{
 "cells": [
  {
   "cell_type": "code",
   "execution_count": 6,
   "id": "09d049a4",
   "metadata": {},
   "outputs": [
    {
     "name": "stdout",
     "output_type": "stream",
     "text": [
      "Created the file and data written\n"
     ]
    }
   ],
   "source": [
    "# file operations writing data to file\n",
    "\n",
    "with open(\"file.txt\",\"w\") as file:\n",
    "    file.write(\"Hello\\n\")\n",
    "    file.write(\"Welcome to file operation in Python\")\n",
    "print(\"Created the file and data written\")"
   ]
  },
  {
   "cell_type": "code",
   "execution_count": 2,
   "id": "d1bd2440",
   "metadata": {},
   "outputs": [
    {
     "name": "stdout",
     "output_type": "stream",
     "text": [
      "Read from file1:\n",
      "Hello\n",
      "Welcome to file operation in Python\n"
     ]
    }
   ],
   "source": [
    "# read file \n",
    "\n",
    "with open(\"file.txt\",\"r\") as file:\n",
    "    b = file.read()\n",
    "print(\"Read from file1:\")\n",
    "print(b)"
   ]
  },
  {
   "cell_type": "code",
   "execution_count": 3,
   "id": "f8b47bd9",
   "metadata": {},
   "outputs": [
    {
     "name": "stdout",
     "output_type": "stream",
     "text": [
      "\n",
      "data append to file\n"
     ]
    }
   ],
   "source": [
    "# append file\n",
    "\n",
    "with open(\"file.txt\", \"a\") as file:\n",
    "    file.write(\"\\n This is an append line\")\n",
    "print(\"\\ndata append to file\")"
   ]
  },
  {
   "cell_type": "code",
   "execution_count": 8,
   "id": "13e17439",
   "metadata": {},
   "outputs": [
    {
     "name": "stdout",
     "output_type": "stream",
     "text": [
      "File deleted successfully\n"
     ]
    }
   ],
   "source": [
    "# delete a file \n",
    "\n",
    "import os\n",
    "if os.path.exists(\"file.txt\"):\n",
    "    os.remove(\"file.txt\")\n",
    "    print(\"File deleted successfully\")\n",
    "else:\n",
    "    print(\"File not found\")"
   ]
  },
  {
   "cell_type": "code",
   "execution_count": 9,
   "id": "9a816ed6",
   "metadata": {},
   "outputs": [
    {
     "name": "stdout",
     "output_type": "stream",
     "text": [
      "file not found\n"
     ]
    }
   ],
   "source": [
    "try:\n",
    "    with open(\"file.txt\",\"r\") as file:\n",
    "        b = file.read()\n",
    "        print(\"details from file\")\n",
    "    print(b)\n",
    "except FileNotFoundError:\n",
    "    print(\"file not found\")"
   ]
  },
  {
   "cell_type": "code",
   "execution_count": null,
   "id": "17066359",
   "metadata": {},
   "outputs": [
    {
     "name": "stdout",
     "output_type": "stream",
     "text": [
      "Successfully added lines\n",
      "details in file are\n",
      "\n",
      "My name is Kevin George\n",
      " I am a student\n",
      " I hate coding\n"
     ]
    }
   ],
   "source": [
    "lines = [\"My name is Kevin George\\n I am a student\\n I hate coding\"]\n",
    "with open(\"kevin.txt\",\"w\") as file:\n",
    "    file.writelines(lines)\n",
    "    print(\"Successfully added lines\")\n",
    "\n",
    "with open(\"kevin.txt\", \"r\") as file:\n",
    "    b = file.read()\n",
    "    print(\"details in file are\")\n",
    "print(b)"
   ]
  }
 ],
 "metadata": {
  "kernelspec": {
   "display_name": "Python 3",
   "language": "python",
   "name": "python3"
  },
  "language_info": {
   "codemirror_mode": {
    "name": "ipython",
    "version": 3
   },
   "file_extension": ".py",
   "mimetype": "text/x-python",
   "name": "python",
   "nbconvert_exporter": "python",
   "pygments_lexer": "ipython3",
   "version": "3.8.10"
  }
 },
 "nbformat": 4,
 "nbformat_minor": 5
}
