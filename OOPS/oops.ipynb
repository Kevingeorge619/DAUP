{
 "cells": [
  {
   "cell_type": "code",
   "execution_count": 1,
   "id": "fda696f6",
   "metadata": {},
   "outputs": [
    {
     "name": "stdout",
     "output_type": "stream",
     "text": [
      "name: Kevin, Age: 23\n",
      "name: Ann, Age: 23\n"
     ]
    }
   ],
   "source": [
    "class student:\n",
    "    def __init__(self,name,age):\n",
    "        self.name = name\n",
    "        self.age = age\n",
    "    \n",
    "    def display_info(self):\n",
    "        print(f\"name: {self.name}, Age: {self.age}\")\n",
    "\n",
    "#object creation\n",
    "s1 = student(\"Kevin\",23)\n",
    "s2 = student(\"Ann\", 23)\n",
    "s1.display_info()\n",
    "s2.display_info()"
   ]
  },
  {
   "cell_type": "code",
   "execution_count": 2,
   "id": "23a369b1",
   "metadata": {},
   "outputs": [
    {
     "name": "stdout",
     "output_type": "stream",
     "text": [
      "My name is Kevin and I am 23 years old\n"
     ]
    }
   ],
   "source": [
    "class person:\n",
    "    def __init__(self, name,age):\n",
    "        self.name = name\n",
    "        self.age = age\n",
    "    \n",
    "    def introduce(self):\n",
    "        print(f\"My name is {self.name} and I am {self.age} years old\")\n",
    "\n",
    "#object creation\n",
    "p1 = person(\"Kevin\", 23)\n",
    "p1.introduce()"
   ]
  },
  {
   "cell_type": "code",
   "execution_count": 6,
   "id": "f282a79e",
   "metadata": {},
   "outputs": [
    {
     "name": "stdout",
     "output_type": "stream",
     "text": [
      "This is a Maruti Suzuki Swift and it is Red in color\n"
     ]
    }
   ],
   "source": [
    "class car:\n",
    "    def __init__(self, name, model,color):\n",
    "        self.name = name\n",
    "        self.model = model\n",
    "        self.color = color\n",
    "    \n",
    "    def car_details(self):\n",
    "        print(f\"This is a {self.name} {self.model} and it is {self.color} in color\" )\n",
    "\n",
    "#object creation\n",
    "c1 = car(\"Maruti Suzuki\", \"Swift\", \"Red\")\n",
    "c1.car_details()\n",
    "\n",
    "        "
   ]
  },
  {
   "cell_type": "code",
   "execution_count": 7,
   "id": "70d039c6",
   "metadata": {},
   "outputs": [
    {
     "name": "stdout",
     "output_type": "stream",
     "text": [
      "Area is 4\n"
     ]
    }
   ],
   "source": [
    "class rectangle:\n",
    "    def __init__(self, length, breadth):\n",
    "        self.length = length\n",
    "        self.breadth = breadth\n",
    "    \n",
    "    def area(self):\n",
    "        a = self.length * self.breadth\n",
    "        print(f\"Area is {a}\")\n",
    "\n",
    "#object creation\n",
    "r1 = rectangle(2,2)\n",
    "r1.area()\n"
   ]
  },
  {
   "cell_type": "code",
   "execution_count": 10,
   "id": "b03fa980",
   "metadata": {},
   "outputs": [
    {
     "name": "stdout",
     "output_type": "stream",
     "text": [
      "Name: Kevin Rollno: 36 Grade: A\n",
      "Name: Kavya Rollno: 35 Grade: B\n",
      "Name: Vishakhan Rollno: 60 Grade: C\n"
     ]
    }
   ],
   "source": [
    "#Define a class Student with attributes name, roll_no, and grade. Create three student objects and print their data using a method show().  \n",
    "\n",
    "class student:\n",
    "    def __init__(self, name, rollno, grade):\n",
    "        self.name = name \n",
    "        self.rollno = rollno\n",
    "        self.grade = grade\n",
    "    \n",
    "    def show(self):\n",
    "        print(f\"Name: {self.name} Rollno: {self.rollno} Grade: {self.grade}\" )\n",
    "\n",
    "#object creation\n",
    "s1 = student(\"Kevin\", 36, \"A\")\n",
    "s2 = student(\"Kavya\", 35, \"B\")\n",
    "s3 = student(\"Vishakhan\", 60, \"C\")\n",
    "s1.show()\n",
    "s2.show()\n",
    "s3.show()    \n",
    "        "
   ]
  },
  {
   "cell_type": "code",
   "execution_count": 11,
   "id": "aed4082f",
   "metadata": {},
   "outputs": [
    {
     "name": "stdout",
     "output_type": "stream",
     "text": [
      "Title : Percy Jackson Author: Rick Riordan Price: 1500\n"
     ]
    }
   ],
   "source": [
    "#Write a class Book with attributes title, author, and price. Use the constructor to initialize the values. Create an object with your favorite book details.\n",
    "class book:\n",
    "    def __init__(self, title, author, price):\n",
    "        self.title = title\n",
    "        self.author = author\n",
    "        self.price = price\n",
    "    \n",
    "    def show(self):\n",
    "        print(f\"Title : {self.title} Author: {self.author} Price: {self.price}\" )\n",
    "\n",
    "#object creation\n",
    "b1 = book(\"Percy Jackson\",\"Rick Riordan\", 1500)\n",
    "b1.show()\n",
    "   "
   ]
  },
  {
   "cell_type": "code",
   "execution_count": 12,
   "id": "80aba8d5",
   "metadata": {},
   "outputs": [
    {
     "name": "stdout",
     "output_type": "stream",
     "text": [
      "Current balance : 1000\n",
      "updated balance : 2000\n",
      "Current balance : 2000\n"
     ]
    }
   ],
   "source": [
    "# Create a class Account with attributes name and balance. Write a method deposit(amount) that adds money to balance. Create an object and deposit ₹1000.\n",
    "\n",
    "class account:\n",
    "    def __init__(self, name, balance):\n",
    "        self.name = name\n",
    "        self.balance = balance\n",
    "    \n",
    "    def deposit(self):\n",
    "        amount = int(input(\"Enter the amount to be deposited\"))\n",
    "        self.balance = self.balance + amount\n",
    "        print(f\"updated balance : {self.balance}\")\n",
    "\n",
    "    def show(self):\n",
    "        print(f\"Current balance : {self.balance}\")\n",
    "    \n",
    "#object creation\n",
    "a1 = account(\"Kevin\", 1000)\n",
    "a1.show()\n",
    "a1.deposit()\n",
    "a1.show()"
   ]
  },
  {
   "cell_type": "code",
   "execution_count": 18,
   "id": "402247cb",
   "metadata": {},
   "outputs": [
    {
     "name": "stdout",
     "output_type": "stream",
     "text": [
      "toggle ON\n",
      "toggle OFF\n"
     ]
    }
   ],
   "source": [
    "#Create a class Lamp with a method toggle() to switch the lamp between ON and OFF. Create a lamp object and call the method multiple times.\n",
    "\n",
    "class lamp:\n",
    "    def __init__(self, state):\n",
    "        self.state= state\n",
    "    \n",
    "    def toggle(self):\n",
    "        if self.state == \"OFF\":\n",
    "            self.state = \"ON\"\n",
    "        else:\n",
    "            self.state = \"OFF\"\n",
    "        \n",
    "        print(f\"toggle {self.state}\")\n",
    "    \n",
    "#object creation\n",
    "l1 = lamp(\"OFF\")\n",
    "l1.toggle()\n",
    "l1.toggle()\n",
    "\n",
    "        "
   ]
  },
  {
   "cell_type": "code",
   "execution_count": 19,
   "id": "f14c2f32",
   "metadata": {},
   "outputs": [
    {
     "name": "stdout",
     "output_type": "stream",
     "text": [
      "Name : Kevin \n",
      " Salary : 25000\n",
      "Name : Kavya \n",
      " Salary : 15000\n",
      "Name : Vishakhan \n",
      " Salary : 10000\n",
      "Name : Lonnis \n",
      " Salary : 5000\n",
      "Name : Ann \n",
      " Salary : 20000\n"
     ]
    }
   ],
   "source": [
    "#Create a class Employee with attributes name and salary. Create a list of 5 employees and display all names and salaries using a loop.\n",
    "\n",
    "class employee:\n",
    "    def __init__(self, name, salary):\n",
    "        self.name = name\n",
    "        self.salary = salary\n",
    "    \n",
    "    def display(self):\n",
    "        print(f\"Name : {self.name} \\n Salary : {self.salary}\")\n",
    "    \n",
    "#object creation\n",
    "e = [employee(\"Kevin\", 25000),\n",
    "employee(\"Kavya\", 15000),\n",
    "employee(\"Vishakhan\", 10000),\n",
    "employee(\"Lonnis\", 5000),\n",
    "employee(\"Ann\", 20000)]\n",
    "\n",
    "for i in e:\n",
    "    i.display()\n",
    "        "
   ]
  },
  {
   "cell_type": "code",
   "execution_count": 20,
   "id": "499d5c96",
   "metadata": {},
   "outputs": [
    {
     "name": "stdout",
     "output_type": "stream",
     "text": [
      "Old Model: Galaxy S21\n",
      "New Model: Galaxy S22\n"
     ]
    }
   ],
   "source": [
    "#Create a class MobilePhone with brand and model. Create an object. Change the model after creation using a method update_model(new_model). Show both old and new model names.\n",
    "class mobile_phone:\n",
    "    def __init__(self, brand, model):\n",
    "        self.brand = brand\n",
    "        self.model = model\n",
    "    \n",
    "    def update_model(self, new_model):\n",
    "        print(f\"Old Model: {self.model}\")\n",
    "        self.model = new_model\n",
    "        print(f\"New Model: {self.model}\")   \n",
    "#object creation\n",
    "m1 = mobile_phone(\"Samsung\", \"Galaxy S21\")\n",
    "m1.update_model(\"Galaxy S22\")\n"
   ]
  },
  {
   "cell_type": "code",
   "execution_count": null,
   "id": "988a349f",
   "metadata": {},
   "outputs": [
    {
     "name": "stdout",
     "output_type": "stream",
     "text": [
      "ABC High School\n",
      "ABC High School\n",
      "Kevin\n",
      "Ann\n"
     ]
    }
   ],
   "source": [
    "class student:\n",
    "    school_name = \"ABC High School\"  #class attribute\n",
    "\n",
    "    def __init__(self, name, age):\n",
    "        self.name = name\n",
    "        self.age = age\n",
    "    \n",
    "s1 = student(\"Kevin\", 23)\n",
    "s2 = student(\"Ann\", 23)\n",
    "\n",
    "print(s1.school_name)\n",
    "print(s2.school_name)\n",
    "print(s1.name)\n",
    "print(s2.name)"
   ]
  }
 ],
 "metadata": {
  "kernelspec": {
   "display_name": "Python 3",
   "language": "python",
   "name": "python3"
  },
  "language_info": {
   "codemirror_mode": {
    "name": "ipython",
    "version": 3
   },
   "file_extension": ".py",
   "mimetype": "text/x-python",
   "name": "python",
   "nbconvert_exporter": "python",
   "pygments_lexer": "ipython3",
   "version": "3.8.10"
  }
 },
 "nbformat": 4,
 "nbformat_minor": 5
}
