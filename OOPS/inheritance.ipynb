{
 "cells": [
  {
   "cell_type": "code",
   "execution_count": 2,
   "id": "27418ea1",
   "metadata": {},
   "outputs": [
    {
     "name": "stdout",
     "output_type": "stream",
     "text": [
      "Feature from class A\n",
      "Feature from class B\n"
     ]
    }
   ],
   "source": [
    "#single inheritance\n",
    "\n",
    "class A:\n",
    "    def feature_a(self):\n",
    "        print(\"Feature from class A\")\n",
    "\n",
    "class B(A):\n",
    "    def feature_b(self):\n",
    "        print(\"Feature from class B\")\n",
    "    \n",
    "obj = B()\n",
    "\n",
    "obj.feature_a()\n",
    "obj.feature_b()\n"
   ]
  },
  {
   "cell_type": "code",
   "execution_count": 3,
   "id": "01a8646c",
   "metadata": {},
   "outputs": [
    {
     "name": "stdout",
     "output_type": "stream",
     "text": [
      "Person: Kevin\n",
      "Kevin is a teacher\n"
     ]
    }
   ],
   "source": [
    "class Person:\n",
    "    def __init__(self,name):\n",
    "        self.name = name\n",
    "\n",
    "    def display(self):\n",
    "        print(f\"Person: {self.name}\")\n",
    "\n",
    "class Teacher(Person):\n",
    "    def teach(self):\n",
    "        print(f\"{self.name} is a teacher\")\n",
    "\n",
    "t1 = Teacher(\"Kevin\")\n",
    "\n",
    "t1.display()\n",
    "t1.teach()\n"
   ]
  },
  {
   "cell_type": "code",
   "execution_count": 4,
   "id": "de6694c4",
   "metadata": {},
   "outputs": [
    {
     "name": "stdout",
     "output_type": "stream",
     "text": [
      "Employee name: Kevin\n",
      "Kevin write python code\n"
     ]
    }
   ],
   "source": [
    "class Employee:\n",
    "    def __init__(self,name):\n",
    "        self.name = name\n",
    "    \n",
    "    def show_details(self):\n",
    "        print(f\"Employee name: {self.name}\")\n",
    "    \n",
    "class Developer(Employee):\n",
    "    def write_code(self):\n",
    "        print(f\"{self.name} write python code\")\n",
    "\n",
    "obj = Developer(\"Kevin\")\n",
    "obj.show_details()\n",
    "obj.write_code()"
   ]
  },
  {
   "cell_type": "code",
   "execution_count": 5,
   "id": "6cdc701f",
   "metadata": {},
   "outputs": [
    {
     "name": "stdout",
     "output_type": "stream",
     "text": [
      "Scanning documents...\n",
      "Printing document...\n",
      "Ready to use\n"
     ]
    }
   ],
   "source": [
    "# Multiple Inheritance\n",
    "\n",
    "class Scanner:\n",
    "    def scan(self):\n",
    "        print(\"Scanning documents...\")\n",
    "class Printer:\n",
    "    def print_doc(self):\n",
    "        print(\"Printing document...\")\n",
    "\n",
    "class AllInOneMachine(Scanner,Printer):\n",
    "    def status(self):\n",
    "        print(\"Ready to use\")\n",
    "\n",
    "obj = AllInOneMachine()\n",
    "obj.scan()\n",
    "obj.print_doc()\n",
    "obj.status()"
   ]
  },
  {
   "cell_type": "code",
   "execution_count": 7,
   "id": "cec5e1bc",
   "metadata": {},
   "outputs": [
    {
     "name": "stdout",
     "output_type": "stream",
     "text": [
      "Method from class B\n"
     ]
    }
   ],
   "source": [
    "# Multiple Resolution Order\n",
    "\n",
    "class A:\n",
    "    def show(self):\n",
    "        print(\"Method from class A\")\n",
    "\n",
    "class B:\n",
    "    def show(self):\n",
    "        print(\"Method from class B\")\n",
    "\n",
    "class C(B,A):\n",
    "    pass\n",
    "\n",
    "obj = C()\n",
    "obj.show()"
   ]
  },
  {
   "cell_type": "code",
   "execution_count": 8,
   "id": "b1528b35",
   "metadata": {},
   "outputs": [
    {
     "name": "stdout",
     "output_type": "stream",
     "text": [
      "This is the feature from class A\n",
      "This is the feature from class B\n",
      "This is the feature from class C\n"
     ]
    }
   ],
   "source": [
    "# Multi Level Inheritance\n",
    "\n",
    "class A:\n",
    "    def feature_a(self):\n",
    "        print(\"This is the feature from class A\")\n",
    "\n",
    "class B(A):\n",
    "    def feature_b(self):\n",
    "        print(\"This is the feature from class B\")\n",
    "\n",
    "class C(B):\n",
    "    def feature_c(self):\n",
    "        print(\"This is the feature from class C\")\n",
    "\n",
    "obj = C()\n",
    "obj.feature_a()\n",
    "obj.feature_b()\n",
    "obj.feature_c()"
   ]
  },
  {
   "cell_type": "code",
   "execution_count": 9,
   "id": "64570570",
   "metadata": {},
   "outputs": [
    {
     "name": "stdout",
     "output_type": "stream",
     "text": [
      "Device is now ON.\n",
      "The device is booting the operating system\n",
      "User Login\n"
     ]
    }
   ],
   "source": [
    "class Device:\n",
    "    def power_on(self):\n",
    "        print(\"Device is now ON.\")\n",
    "\n",
    "class Computer(Device):\n",
    "    def run_os(self):\n",
    "        print(\"The device is booting the operating system\")\n",
    "\n",
    "class Login(Computer):\n",
    "    def fold(self):\n",
    "        print(\"User Login\")\n",
    "\n",
    "obj = Login()\n",
    "obj.power_on()\n",
    "obj.run_os()\n",
    "obj.fold()"
   ]
  },
  {
   "cell_type": "code",
   "execution_count": 13,
   "id": "5f47d541",
   "metadata": {},
   "outputs": [
    {
     "name": "stdout",
     "output_type": "stream",
     "text": [
      "Feature from class A\n",
      "Feature from class B\n"
     ]
    }
   ],
   "source": [
    "# Hierachical Inheritance\n",
    "\n",
    "class A:\n",
    "    def feature_a(self):\n",
    "        print(\"Feature from class A\")\n",
    "class B(A):\n",
    "    def feature_b(self):\n",
    "        print(\"Feature from class B\")\n",
    "class C(B):\n",
    "    def feature_c(self):\n",
    "        print(\"Feature from class C\")\n",
    "\n",
    "b = B()\n",
    "c = C()\n",
    "\n",
    "b.feature_a()\n",
    "c.feature_b()"
   ]
  },
  {
   "cell_type": "code",
   "execution_count": 14,
   "id": "f5525805",
   "metadata": {},
   "outputs": [
    {
     "name": "stdout",
     "output_type": "stream",
     "text": [
      "Engine started\n",
      "Driving a car\n",
      "Engine started\n",
      "Riding a bike\n"
     ]
    }
   ],
   "source": [
    "class Vehicle:\n",
    "    def start_engine(self):\n",
    "        print(\"Engine started\")\n",
    "class Car(Vehicle):\n",
    "    def drive(self):\n",
    "        print(\"Driving a car\")\n",
    "class Bike(Vehicle):\n",
    "    def ride(self):\n",
    "        print(\"Riding a bike\")\n",
    "\n",
    "c = Car()\n",
    "c.start_engine()\n",
    "c.drive()\n",
    "\n",
    "b = Bike()\n",
    "b.start_engine()\n",
    "b.ride()\n"
   ]
  },
  {
   "cell_type": "code",
   "execution_count": 16,
   "id": "57be0908",
   "metadata": {},
   "outputs": [
    {
     "name": "stdout",
     "output_type": "stream",
     "text": [
      "Feature from class A\n",
      "Feature from class A\n",
      "Feature from class B\n",
      "Feature from class C\n",
      "Feature from class D\n"
     ]
    }
   ],
   "source": [
    "# hybrid inheritance\n",
    "\n",
    "class A:\n",
    "    def feature_a(self):\n",
    "        print(\"Feature from class A\")\n",
    "class B(A):\n",
    "    def feature_b(self):\n",
    "        print(\"Feature from class B\")\n",
    "class C(A):\n",
    "    def feature_c(self):\n",
    "        print(\"Feature from class C\")\n",
    "class D(B,C):\n",
    "    def feature_d(self):\n",
    "        print(\"Feature from class D\")\n",
    "\n",
    "d = D()\n",
    "b = B()\n",
    "c = C()\n",
    "a = A()\n",
    "b.feature_a()\n",
    "\n",
    "d.feature_a()\n",
    "d.feature_b()\n",
    "d.feature_c()\n",
    "d.feature_d()\n"
   ]
  },
  {
   "cell_type": "code",
   "execution_count": 17,
   "id": "d869a823",
   "metadata": {},
   "outputs": [
    {
     "name": "stdout",
     "output_type": "stream",
     "text": [
      "Teacher : Kevin\n",
      "Kevin is teaching\n"
     ]
    }
   ],
   "source": [
    "# Method Overriding \n",
    "\n",
    "class Person:\n",
    "    def __init__(self,name):\n",
    "        self.name = name\n",
    "    \n",
    "    def display(self):\n",
    "        print(f\"Person : {self.name}\")\n",
    "\n",
    "class Teacher(Person):\n",
    "    def display(self):\n",
    "        print(f\"Teacher : {self.name}\")\n",
    "    def teach(self):\n",
    "        print(f\"{self.name} is teaching\")\n",
    "    \n",
    "t1 = Teacher(\"Kevin\")\n",
    "t1.display()\n",
    "t1.teach()"
   ]
  },
  {
   "cell_type": "code",
   "execution_count": 18,
   "id": "358dbe6c",
   "metadata": {},
   "outputs": [
    {
     "name": "stdout",
     "output_type": "stream",
     "text": [
      "Drawing a circle\n",
      "Drawring a square\n"
     ]
    }
   ],
   "source": [
    "# Duck Typing - behavior-based polymorphism \n",
    "\n",
    "class Circle:\n",
    "    def draw(self):\n",
    "        print(\"Drawing a circle\")\n",
    "class Square:\n",
    "    def draw(self):\n",
    "        print(\"Drawring a square\")\n",
    "\n",
    "def render_shape(shape):   #polymorphic function\n",
    "    shape.draw()\n",
    "\n",
    "circle = Circle()\n",
    "square = Square()\n",
    "\n",
    "render_shape(circle)\n",
    "render_shape(square)\n"
   ]
  }
 ],
 "metadata": {
  "kernelspec": {
   "display_name": "Python 3",
   "language": "python",
   "name": "python3"
  },
  "language_info": {
   "codemirror_mode": {
    "name": "ipython",
    "version": 3
   },
   "file_extension": ".py",
   "mimetype": "text/x-python",
   "name": "python",
   "nbconvert_exporter": "python",
   "pygments_lexer": "ipython3",
   "version": "3.8.10"
  }
 },
 "nbformat": 4,
 "nbformat_minor": 5
}
