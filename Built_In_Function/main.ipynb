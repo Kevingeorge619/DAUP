{
 "cells": [
  {
   "cell_type": "code",
   "execution_count": 1,
   "id": "89a09f4c",
   "metadata": {},
   "outputs": [
    {
     "name": "stdout",
     "output_type": "stream",
     "text": [
      "<class '__main__.Car'>\n"
     ]
    }
   ],
   "source": [
    "# type()- returns the type(class) of an object\n",
    "class Car:\n",
    "    pass\n",
    "c = Car()\n",
    "print(type(c))"
   ]
  },
  {
   "cell_type": "code",
   "execution_count": null,
   "id": "7c88a728",
   "metadata": {},
   "outputs": [
    {
     "name": "stdout",
     "output_type": "stream",
     "text": [
      "True\n",
      "True\n"
     ]
    }
   ],
   "source": [
    "# isintance() - check if the onject is an instance of a class or a subclass\n",
    "print(isinstance(c,Car))\n",
    "print(isinstance(c, object))  # everything is python inherits from object"
   ]
  },
  {
   "cell_type": "code",
   "execution_count": null,
   "id": "e0997a59",
   "metadata": {},
   "outputs": [],
   "source": []
  }
 ],
 "metadata": {
  "kernelspec": {
   "display_name": "Python 3",
   "language": "python",
   "name": "python3"
  },
  "language_info": {
   "codemirror_mode": {
    "name": "ipython",
    "version": 3
   },
   "file_extension": ".py",
   "mimetype": "text/x-python",
   "name": "python",
   "nbconvert_exporter": "python",
   "pygments_lexer": "ipython3",
   "version": "3.8.10"
  }
 },
 "nbformat": 4,
 "nbformat_minor": 5
}
